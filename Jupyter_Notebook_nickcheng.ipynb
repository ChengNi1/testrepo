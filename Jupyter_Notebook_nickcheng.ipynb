{
  "metadata": {
    "kernelspec": {
      "name": "python",
      "display_name": "Pyolite",
      "language": "python"
    },
    "language_info": {
      "codemirror_mode": {
        "name": "python",
        "version": 3
      },
      "file_extension": ".py",
      "mimetype": "text/x-python",
      "name": "python",
      "nbconvert_exporter": "python",
      "pygments_lexer": "ipython3",
      "version": "3.8"
    }
  },
  "nbformat_minor": 4,
  "nbformat": 4,
  "cells": [
    {
      "cell_type": "markdown",
      "source": "<center>\n    <img src=\"https://cf-courses-data.s3.us.cloud-object-storage.appdomain.cloud/IBMDeveloperSkillsNetwork-DS0105EN-SkillsNetwork/labs/Module2/images/SN_web_lightmode.png\" width=\"300\" alt=\"cognitiveclass.ai logo\">\n</center>\n",
      "metadata": {}
    },
    {
      "cell_type": "markdown",
      "source": "# My Jupyter Notebook on IBM Watson Studio",
      "metadata": {}
    },
    {
      "cell_type": "markdown",
      "source": "NICK CHENG\nCurrent occupation is a software engineer",
      "metadata": {
        "tags": []
      }
    },
    {
      "cell_type": "markdown",
      "source": "I am interested in data science to explore and get a better understanding on how the world works. \nData can help me to discover many unknown fields of work and daily life.",
      "metadata": {}
    },
    {
      "cell_type": "markdown",
      "source": "### The codes below should be able to print 'Hey Data'",
      "metadata": {}
    }
  ]
}